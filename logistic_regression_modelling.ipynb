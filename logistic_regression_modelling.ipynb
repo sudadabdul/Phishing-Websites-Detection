{
 "cells": [
  {
   "cell_type": "markdown",
   "metadata": {},
   "source": [
    "# **Detect Phishing Websites Modelling**\n",
    "\n",
    "---"
   ]
  },
  {
   "cell_type": "code",
   "execution_count": 1,
   "metadata": {},
   "outputs": [],
   "source": [
    "import time\n",
    "from pathlib import Path\n",
    "\n",
    "import matplotlib.pyplot as plt\n",
    "import numpy as np\n",
    "import pandas as pd\n",
    "import wandb\n",
    "from sklearn.linear_model import LogisticRegression\n",
    "from sklearn.metrics import accuracy_score, precision_score, recall_score, confusion_matrix, classification_report\n",
    "from sklearn.model_selection import RandomizedSearchCV\n"
   ]
  },
  {
   "cell_type": "code",
   "execution_count": 2,
   "metadata": {},
   "outputs": [],
   "source": [
    "np.random.seed(42)"
   ]
  },
  {
   "cell_type": "code",
   "execution_count": 3,
   "metadata": {},
   "outputs": [],
   "source": [
    "BASE_DIR = Path(\".\").resolve()\n",
    "DATA_DIR = BASE_DIR / \"data\"\n",
    "PROCESSED_DIR = DATA_DIR / \"processed\""
   ]
  },
  {
   "cell_type": "code",
   "execution_count": 4,
   "metadata": {},
   "outputs": [],
   "source": [
    "training_data = pd.read_csv(PROCESSED_DIR / \"training.csv\")\n",
    "X_train = training_data.drop(columns=[\"Result\"])\n",
    "y_train = training_data[\"Result\"]\n",
    "\n",
    "testing_data = pd.read_csv(PROCESSED_DIR / \"testing.csv\")\n",
    "X_test = testing_data.drop(columns=[\"Result\"])\n",
    "y_test = testing_data[\"Result\"]"
   ]
  },
  {
   "cell_type": "code",
   "execution_count": null,
   "metadata": {},
   "outputs": [],
   "source": [
    "wandb.init(project=\"Detect Phishing Websites Modelling\", name=\"logistic-regression\")"
   ]
  },
  {
   "cell_type": "code",
   "execution_count": 6,
   "metadata": {},
   "outputs": [],
   "source": [
    "start_training = time.time()\n",
    "logistic_regression = LogisticRegression()\n",
    "logistic_regression.fit(X_train, y_train)\n",
    "end_training = time.time()\n",
    "\n",
    "y_pred = logistic_regression.predict(X_test)\n",
    "\n",
    "accuracy = accuracy_score(y_test, y_pred)\n",
    "precision = precision_score(y_test, y_pred)\n",
    "recall = recall_score(y_test, y_pred)\n",
    "confusion = confusion_matrix(y_test, y_pred)\n",
    "\n",
    "wandb.log(\n",
    "    {\n",
    "        \"accuracy\": accuracy,\n",
    "        \"precision\": precision,\n",
    "        \"recall\": recall,\n",
    "        \"confusion\": wandb.plot.confusion_matrix(\n",
    "            probs=None,\n",
    "            y_true=y_test,\n",
    "            preds=y_pred,\n",
    "            class_names=[\"Phishing\", \"Legitimate\"],\n",
    "        ),\n",
    "        \"training_time\": end_training - start_training,\n",
    "    }\n",
    ")"
   ]
  },
  {
   "cell_type": "code",
   "execution_count": 16,
   "metadata": {},
   "outputs": [
    {
     "name": "stdout",
     "output_type": "stream",
     "text": [
      "              precision    recall  f1-score   support\n",
      "\n",
      "    Phishing       0.94      0.90      0.92       980\n",
      "  Legitimate       0.92      0.95      0.94      1231\n",
      "\n",
      "    accuracy                           0.93      2211\n",
      "   macro avg       0.93      0.93      0.93      2211\n",
      "weighted avg       0.93      0.93      0.93      2211\n",
      "\n"
     ]
    }
   ],
   "source": [
    "print(classification_report(y_test, y_pred, target_names=[\"Phishing\", \"Legitimate\"]))"
   ]
  },
  {
   "cell_type": "code",
   "execution_count": 17,
   "metadata": {},
   "outputs": [],
   "source": [
    "# Hyperparameter Tuning Parameters\n",
    "penalty = [\"l1\", \"l2\"]\n",
    "C = [.8, .9, 1.0]\n",
    "tol = [1e-2, 1e-3, 1e-4]\n",
    "max_iter = [100, 150, 200, 250, 300]"
   ]
  },
  {
   "cell_type": "code",
   "execution_count": null,
   "metadata": {},
   "outputs": [],
   "source": [
    "wandb.init(\n",
    "    project=\"Detect Phishing Websites Modelling\",\n",
    "    name=\"logistic-regression-hyperparameter-tuning\",\n",
    ")\n",
    "start_training = time.time()\n",
    "randomized_search = RandomizedSearchCV(\n",
    "    estimator=logistic_regression,\n",
    "    param_distributions={\n",
    "        \"penalty\": penalty,\n",
    "        \"C\": C,\n",
    "        \"tol\": tol,\n",
    "        \"max_iter\": max_iter,\n",
    "    },\n",
    "    cv=5,\n",
    "    random_state=42,\n",
    "    n_jobs=-1,\n",
    ")\n",
    "randomized_search.fit(X_train, y_train)\n",
    "end_training = time.time()"
   ]
  },
  {
   "cell_type": "code",
   "execution_count": 19,
   "metadata": {},
   "outputs": [],
   "source": [
    "y_pred = randomized_search.predict(X_test)\n",
    "\n",
    "accuracy = accuracy_score(y_test, y_pred)\n",
    "precision = precision_score(y_test, y_pred)\n",
    "recall = recall_score(y_test, y_pred)\n",
    "confusion = confusion_matrix(y_test, y_pred)\n",
    "wandb.log(\n",
    "    {\n",
    "        \"accuracy\": accuracy,\n",
    "        \"precision\": precision,\n",
    "        \"recall\": recall,\n",
    "        \"confusion\": wandb.plot.confusion_matrix(\n",
    "            probs=None,\n",
    "            y_true=y_test,\n",
    "            preds=y_pred,\n",
    "            class_names=[\"Phishing\", \"Legitimate\"],\n",
    "        ),\n",
    "        \"training_time\": end_training - start_training,\n",
    "    }\n",
    ")"
   ]
  },
  {
   "cell_type": "code",
   "execution_count": 24,
   "metadata": {},
   "outputs": [
    {
     "name": "stdout",
     "output_type": "stream",
     "text": [
      "Best Parameters: {'tol': 0.001, 'penalty': 'l2', 'max_iter': 150, 'C': 1.0}\n",
      "Best Score: 92.67304047330983\n"
     ]
    }
   ],
   "source": [
    "print(f\"Best Parameters: {randomized_search.best_params_}\")\n",
    "print(f\"Best Score: {randomized_search.best_score_ * 100}\")"
   ]
  },
  {
   "cell_type": "code",
   "execution_count": 20,
   "metadata": {},
   "outputs": [
    {
     "name": "stdout",
     "output_type": "stream",
     "text": [
      "              precision    recall  f1-score   support\n",
      "\n",
      "    Phishing       0.94      0.90      0.92       980\n",
      "  Legitimate       0.92      0.95      0.94      1231\n",
      "\n",
      "    accuracy                           0.93      2211\n",
      "   macro avg       0.93      0.93      0.93      2211\n",
      "weighted avg       0.93      0.93      0.93      2211\n",
      "\n"
     ]
    }
   ],
   "source": [
    "print(classification_report(y_test, y_pred, target_names=[\"Phishing\", \"Legitimate\"]))"
   ]
  },
  {
   "cell_type": "code",
   "execution_count": null,
   "metadata": {},
   "outputs": [],
   "source": []
  }
 ],
 "metadata": {
  "kernelspec": {
   "display_name": ".venv",
   "language": "python",
   "name": "python3"
  },
  "language_info": {
   "codemirror_mode": {
    "name": "ipython",
    "version": 3
   },
   "file_extension": ".py",
   "mimetype": "text/x-python",
   "name": "python",
   "nbconvert_exporter": "python",
   "pygments_lexer": "ipython3",
   "version": "3.9.13"
  }
 },
 "nbformat": 4,
 "nbformat_minor": 2
}
