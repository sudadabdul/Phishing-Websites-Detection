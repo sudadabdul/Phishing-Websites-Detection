{
 "cells": [
  {
   "cell_type": "markdown",
   "metadata": {},
   "source": [
    "# **Searching for Best Classification Model**\n",
    "\n",
    "---"
   ]
  },
  {
   "cell_type": "code",
   "execution_count": 1,
   "metadata": {},
   "outputs": [],
   "source": [
    "from pathlib import Path\n",
    "\n",
    "import matplotlib.pyplot as plt\n",
    "import numpy as np\n",
    "import pandas as pd\n",
    "import seaborn as sns\n",
    "from sklearn.metrics import accuracy_score, precision_score, recall_score, confusion_matrix, classification_report"
   ]
  },
  {
   "cell_type": "code",
   "execution_count": 3,
   "metadata": {},
   "outputs": [],
   "source": [
    "np.random.seed(42)"
   ]
  },
  {
   "cell_type": "code",
   "execution_count": 4,
   "metadata": {},
   "outputs": [],
   "source": [
    "BASE_DIR = Path(\".\").resolve()\n",
    "DATA_DIR = BASE_DIR / \"data\"\n",
    "PROCESSED_DIR = DATA_DIR / \"processed\""
   ]
  },
  {
   "cell_type": "code",
   "execution_count": 5,
   "metadata": {},
   "outputs": [],
   "source": [
    "training_data = pd.read_csv(PROCESSED_DIR / \"training.csv\")\n",
    "X_train = training_data.drop(columns=[\"Result\"])\n",
    "y_train = training_data[\"Result\"]\n",
    "\n",
    "testing_data = pd.read_csv(PROCESSED_DIR / \"testing.csv\")\n",
    "X_test = testing_data.drop(columns=[\"Result\"])\n",
    "y_test = testing_data[\"Result\"]"
   ]
  },
  {
   "cell_type": "code",
   "execution_count": 6,
   "metadata": {},
   "outputs": [
    {
     "data": {
      "text/html": [
       "<style type=\"text/css\">\n",
       "#T_97b20_row8_col1 {\n",
       "  background-color: lightgreen;\n",
       "}\n",
       "</style>\n",
       "<table id=\"T_97b20\">\n",
       "  <thead>\n",
       "    <tr>\n",
       "      <th class=\"blank level0\" >&nbsp;</th>\n",
       "      <th id=\"T_97b20_level0_col0\" class=\"col_heading level0 col0\" >Description</th>\n",
       "      <th id=\"T_97b20_level0_col1\" class=\"col_heading level0 col1\" >Value</th>\n",
       "    </tr>\n",
       "  </thead>\n",
       "  <tbody>\n",
       "    <tr>\n",
       "      <th id=\"T_97b20_level0_row0\" class=\"row_heading level0 row0\" >0</th>\n",
       "      <td id=\"T_97b20_row0_col0\" class=\"data row0 col0\" >Session id</td>\n",
       "      <td id=\"T_97b20_row0_col1\" class=\"data row0 col1\" >42</td>\n",
       "    </tr>\n",
       "    <tr>\n",
       "      <th id=\"T_97b20_level0_row1\" class=\"row_heading level0 row1\" >1</th>\n",
       "      <td id=\"T_97b20_row1_col0\" class=\"data row1 col0\" >Target</td>\n",
       "      <td id=\"T_97b20_row1_col1\" class=\"data row1 col1\" >Result</td>\n",
       "    </tr>\n",
       "    <tr>\n",
       "      <th id=\"T_97b20_level0_row2\" class=\"row_heading level0 row2\" >2</th>\n",
       "      <td id=\"T_97b20_row2_col0\" class=\"data row2 col0\" >Target type</td>\n",
       "      <td id=\"T_97b20_row2_col1\" class=\"data row2 col1\" >Binary</td>\n",
       "    </tr>\n",
       "    <tr>\n",
       "      <th id=\"T_97b20_level0_row3\" class=\"row_heading level0 row3\" >3</th>\n",
       "      <td id=\"T_97b20_row3_col0\" class=\"data row3 col0\" >Original data shape</td>\n",
       "      <td id=\"T_97b20_row3_col1\" class=\"data row3 col1\" >(8844, 31)</td>\n",
       "    </tr>\n",
       "    <tr>\n",
       "      <th id=\"T_97b20_level0_row4\" class=\"row_heading level0 row4\" >4</th>\n",
       "      <td id=\"T_97b20_row4_col0\" class=\"data row4 col0\" >Transformed data shape</td>\n",
       "      <td id=\"T_97b20_row4_col1\" class=\"data row4 col1\" >(8844, 31)</td>\n",
       "    </tr>\n",
       "    <tr>\n",
       "      <th id=\"T_97b20_level0_row5\" class=\"row_heading level0 row5\" >5</th>\n",
       "      <td id=\"T_97b20_row5_col0\" class=\"data row5 col0\" >Transformed train set shape</td>\n",
       "      <td id=\"T_97b20_row5_col1\" class=\"data row5 col1\" >(6190, 31)</td>\n",
       "    </tr>\n",
       "    <tr>\n",
       "      <th id=\"T_97b20_level0_row6\" class=\"row_heading level0 row6\" >6</th>\n",
       "      <td id=\"T_97b20_row6_col0\" class=\"data row6 col0\" >Transformed test set shape</td>\n",
       "      <td id=\"T_97b20_row6_col1\" class=\"data row6 col1\" >(2654, 31)</td>\n",
       "    </tr>\n",
       "    <tr>\n",
       "      <th id=\"T_97b20_level0_row7\" class=\"row_heading level0 row7\" >7</th>\n",
       "      <td id=\"T_97b20_row7_col0\" class=\"data row7 col0\" >Numeric features</td>\n",
       "      <td id=\"T_97b20_row7_col1\" class=\"data row7 col1\" >30</td>\n",
       "    </tr>\n",
       "    <tr>\n",
       "      <th id=\"T_97b20_level0_row8\" class=\"row_heading level0 row8\" >8</th>\n",
       "      <td id=\"T_97b20_row8_col0\" class=\"data row8 col0\" >Preprocess</td>\n",
       "      <td id=\"T_97b20_row8_col1\" class=\"data row8 col1\" >True</td>\n",
       "    </tr>\n",
       "    <tr>\n",
       "      <th id=\"T_97b20_level0_row9\" class=\"row_heading level0 row9\" >9</th>\n",
       "      <td id=\"T_97b20_row9_col0\" class=\"data row9 col0\" >Imputation type</td>\n",
       "      <td id=\"T_97b20_row9_col1\" class=\"data row9 col1\" >simple</td>\n",
       "    </tr>\n",
       "    <tr>\n",
       "      <th id=\"T_97b20_level0_row10\" class=\"row_heading level0 row10\" >10</th>\n",
       "      <td id=\"T_97b20_row10_col0\" class=\"data row10 col0\" >Numeric imputation</td>\n",
       "      <td id=\"T_97b20_row10_col1\" class=\"data row10 col1\" >mean</td>\n",
       "    </tr>\n",
       "    <tr>\n",
       "      <th id=\"T_97b20_level0_row11\" class=\"row_heading level0 row11\" >11</th>\n",
       "      <td id=\"T_97b20_row11_col0\" class=\"data row11 col0\" >Categorical imputation</td>\n",
       "      <td id=\"T_97b20_row11_col1\" class=\"data row11 col1\" >mode</td>\n",
       "    </tr>\n",
       "    <tr>\n",
       "      <th id=\"T_97b20_level0_row12\" class=\"row_heading level0 row12\" >12</th>\n",
       "      <td id=\"T_97b20_row12_col0\" class=\"data row12 col0\" >Fold Generator</td>\n",
       "      <td id=\"T_97b20_row12_col1\" class=\"data row12 col1\" >StratifiedKFold</td>\n",
       "    </tr>\n",
       "    <tr>\n",
       "      <th id=\"T_97b20_level0_row13\" class=\"row_heading level0 row13\" >13</th>\n",
       "      <td id=\"T_97b20_row13_col0\" class=\"data row13 col0\" >Fold Number</td>\n",
       "      <td id=\"T_97b20_row13_col1\" class=\"data row13 col1\" >10</td>\n",
       "    </tr>\n",
       "    <tr>\n",
       "      <th id=\"T_97b20_level0_row14\" class=\"row_heading level0 row14\" >14</th>\n",
       "      <td id=\"T_97b20_row14_col0\" class=\"data row14 col0\" >CPU Jobs</td>\n",
       "      <td id=\"T_97b20_row14_col1\" class=\"data row14 col1\" >-1</td>\n",
       "    </tr>\n",
       "    <tr>\n",
       "      <th id=\"T_97b20_level0_row15\" class=\"row_heading level0 row15\" >15</th>\n",
       "      <td id=\"T_97b20_row15_col0\" class=\"data row15 col0\" >Use GPU</td>\n",
       "      <td id=\"T_97b20_row15_col1\" class=\"data row15 col1\" >False</td>\n",
       "    </tr>\n",
       "    <tr>\n",
       "      <th id=\"T_97b20_level0_row16\" class=\"row_heading level0 row16\" >16</th>\n",
       "      <td id=\"T_97b20_row16_col0\" class=\"data row16 col0\" >Log Experiment</td>\n",
       "      <td id=\"T_97b20_row16_col1\" class=\"data row16 col1\" >False</td>\n",
       "    </tr>\n",
       "    <tr>\n",
       "      <th id=\"T_97b20_level0_row17\" class=\"row_heading level0 row17\" >17</th>\n",
       "      <td id=\"T_97b20_row17_col0\" class=\"data row17 col0\" >Experiment Name</td>\n",
       "      <td id=\"T_97b20_row17_col1\" class=\"data row17 col1\" >clf-default-name</td>\n",
       "    </tr>\n",
       "    <tr>\n",
       "      <th id=\"T_97b20_level0_row18\" class=\"row_heading level0 row18\" >18</th>\n",
       "      <td id=\"T_97b20_row18_col0\" class=\"data row18 col0\" >USI</td>\n",
       "      <td id=\"T_97b20_row18_col1\" class=\"data row18 col1\" >5881</td>\n",
       "    </tr>\n",
       "  </tbody>\n",
       "</table>\n"
      ],
      "text/plain": [
       "<pandas.io.formats.style.Styler at 0x15d26549f40>"
      ]
     },
     "metadata": {},
     "output_type": "display_data"
    }
   ],
   "source": [
    "classification_experiments= ClassificationExperiment()\n",
    "\n",
    "setup_session = setup(\n",
    "    data=training_data,\n",
    "    target=\"Result\",\n",
    "    session_id=42,\n",
    ")"
   ]
  },
  {
   "cell_type": "code",
   "execution_count": 7,
   "metadata": {},
   "outputs": [
    {
     "data": {
      "text/html": [],
      "text/plain": [
       "<IPython.core.display.HTML object>"
      ]
     },
     "metadata": {},
     "output_type": "display_data"
    },
    {
     "data": {
      "text/html": [
       "<style type=\"text/css\">\n",
       "#T_4f08c th {\n",
       "  text-align: left;\n",
       "}\n",
       "#T_4f08c_row0_col0, #T_4f08c_row0_col2, #T_4f08c_row0_col3, #T_4f08c_row0_col4, #T_4f08c_row1_col0, #T_4f08c_row1_col1, #T_4f08c_row1_col3, #T_4f08c_row1_col4, #T_4f08c_row1_col5, #T_4f08c_row1_col6, #T_4f08c_row1_col7, #T_4f08c_row2_col0, #T_4f08c_row2_col1, #T_4f08c_row2_col2, #T_4f08c_row2_col3, #T_4f08c_row2_col4, #T_4f08c_row2_col5, #T_4f08c_row2_col6, #T_4f08c_row2_col7, #T_4f08c_row3_col0, #T_4f08c_row3_col1, #T_4f08c_row3_col2, #T_4f08c_row3_col3, #T_4f08c_row3_col4, #T_4f08c_row3_col5, #T_4f08c_row3_col6, #T_4f08c_row3_col7, #T_4f08c_row4_col0, #T_4f08c_row4_col1, #T_4f08c_row4_col2, #T_4f08c_row4_col3, #T_4f08c_row4_col4, #T_4f08c_row4_col5, #T_4f08c_row4_col6, #T_4f08c_row4_col7, #T_4f08c_row5_col0, #T_4f08c_row5_col1, #T_4f08c_row5_col2, #T_4f08c_row5_col3, #T_4f08c_row5_col4, #T_4f08c_row5_col5, #T_4f08c_row5_col6, #T_4f08c_row5_col7, #T_4f08c_row6_col0, #T_4f08c_row6_col1, #T_4f08c_row6_col2, #T_4f08c_row6_col3, #T_4f08c_row6_col4, #T_4f08c_row6_col5, #T_4f08c_row6_col6, #T_4f08c_row6_col7, #T_4f08c_row7_col0, #T_4f08c_row7_col1, #T_4f08c_row7_col2, #T_4f08c_row7_col3, #T_4f08c_row7_col4, #T_4f08c_row7_col5, #T_4f08c_row7_col6, #T_4f08c_row7_col7, #T_4f08c_row8_col0, #T_4f08c_row8_col1, #T_4f08c_row8_col2, #T_4f08c_row8_col3, #T_4f08c_row8_col4, #T_4f08c_row8_col5, #T_4f08c_row8_col6, #T_4f08c_row8_col7, #T_4f08c_row9_col0, #T_4f08c_row9_col1, #T_4f08c_row9_col2, #T_4f08c_row9_col3, #T_4f08c_row9_col4, #T_4f08c_row9_col5, #T_4f08c_row9_col6, #T_4f08c_row9_col7, #T_4f08c_row10_col0, #T_4f08c_row10_col1, #T_4f08c_row10_col2, #T_4f08c_row10_col3, #T_4f08c_row10_col4, #T_4f08c_row10_col5, #T_4f08c_row10_col6, #T_4f08c_row10_col7, #T_4f08c_row11_col0, #T_4f08c_row11_col1, #T_4f08c_row11_col2, #T_4f08c_row11_col3, #T_4f08c_row11_col5, #T_4f08c_row11_col6, #T_4f08c_row11_col7, #T_4f08c_row12_col0, #T_4f08c_row12_col1, #T_4f08c_row12_col2, #T_4f08c_row12_col3, #T_4f08c_row12_col4, #T_4f08c_row12_col5, #T_4f08c_row12_col6, #T_4f08c_row12_col7, #T_4f08c_row13_col0, #T_4f08c_row13_col1, #T_4f08c_row13_col2, #T_4f08c_row13_col4, #T_4f08c_row13_col5, #T_4f08c_row13_col6, #T_4f08c_row13_col7 {\n",
       "  text-align: left;\n",
       "}\n",
       "#T_4f08c_row0_col1, #T_4f08c_row0_col5, #T_4f08c_row0_col6, #T_4f08c_row0_col7, #T_4f08c_row1_col2, #T_4f08c_row11_col4, #T_4f08c_row13_col3 {\n",
       "  text-align: left;\n",
       "  background-color: yellow;\n",
       "}\n",
       "#T_4f08c_row0_col8, #T_4f08c_row1_col8, #T_4f08c_row2_col8, #T_4f08c_row3_col8, #T_4f08c_row4_col8, #T_4f08c_row5_col8, #T_4f08c_row6_col8, #T_4f08c_row7_col8, #T_4f08c_row8_col8, #T_4f08c_row11_col8, #T_4f08c_row12_col8, #T_4f08c_row13_col8 {\n",
       "  text-align: left;\n",
       "  background-color: lightgrey;\n",
       "}\n",
       "#T_4f08c_row9_col8, #T_4f08c_row10_col8 {\n",
       "  text-align: left;\n",
       "  background-color: yellow;\n",
       "  background-color: lightgrey;\n",
       "}\n",
       "</style>\n",
       "<table id=\"T_4f08c\">\n",
       "  <thead>\n",
       "    <tr>\n",
       "      <th class=\"blank level0\" >&nbsp;</th>\n",
       "      <th id=\"T_4f08c_level0_col0\" class=\"col_heading level0 col0\" >Model</th>\n",
       "      <th id=\"T_4f08c_level0_col1\" class=\"col_heading level0 col1\" >Accuracy</th>\n",
       "      <th id=\"T_4f08c_level0_col2\" class=\"col_heading level0 col2\" >AUC</th>\n",
       "      <th id=\"T_4f08c_level0_col3\" class=\"col_heading level0 col3\" >Recall</th>\n",
       "      <th id=\"T_4f08c_level0_col4\" class=\"col_heading level0 col4\" >Prec.</th>\n",
       "      <th id=\"T_4f08c_level0_col5\" class=\"col_heading level0 col5\" >F1</th>\n",
       "      <th id=\"T_4f08c_level0_col6\" class=\"col_heading level0 col6\" >Kappa</th>\n",
       "      <th id=\"T_4f08c_level0_col7\" class=\"col_heading level0 col7\" >MCC</th>\n",
       "      <th id=\"T_4f08c_level0_col8\" class=\"col_heading level0 col8\" >TT (Sec)</th>\n",
       "    </tr>\n",
       "  </thead>\n",
       "  <tbody>\n",
       "    <tr>\n",
       "      <th id=\"T_4f08c_level0_row0\" class=\"row_heading level0 row0\" >et</th>\n",
       "      <td id=\"T_4f08c_row0_col0\" class=\"data row0 col0\" >Extra Trees Classifier</td>\n",
       "      <td id=\"T_4f08c_row0_col1\" class=\"data row0 col1\" >0.9635</td>\n",
       "      <td id=\"T_4f08c_row0_col2\" class=\"data row0 col2\" >0.9870</td>\n",
       "      <td id=\"T_4f08c_row0_col3\" class=\"data row0 col3\" >0.9687</td>\n",
       "      <td id=\"T_4f08c_row0_col4\" class=\"data row0 col4\" >0.9660</td>\n",
       "      <td id=\"T_4f08c_row0_col5\" class=\"data row0 col5\" >0.9673</td>\n",
       "      <td id=\"T_4f08c_row0_col6\" class=\"data row0 col6\" >0.9260</td>\n",
       "      <td id=\"T_4f08c_row0_col7\" class=\"data row0 col7\" >0.9261</td>\n",
       "      <td id=\"T_4f08c_row0_col8\" class=\"data row0 col8\" >0.1400</td>\n",
       "    </tr>\n",
       "    <tr>\n",
       "      <th id=\"T_4f08c_level0_row1\" class=\"row_heading level0 row1\" >lightgbm</th>\n",
       "      <td id=\"T_4f08c_row1_col0\" class=\"data row1 col0\" >Light Gradient Boosting Machine</td>\n",
       "      <td id=\"T_4f08c_row1_col1\" class=\"data row1 col1\" >0.9628</td>\n",
       "      <td id=\"T_4f08c_row1_col2\" class=\"data row1 col2\" >0.9946</td>\n",
       "      <td id=\"T_4f08c_row1_col3\" class=\"data row1 col3\" >0.9695</td>\n",
       "      <td id=\"T_4f08c_row1_col4\" class=\"data row1 col4\" >0.9641</td>\n",
       "      <td id=\"T_4f08c_row1_col5\" class=\"data row1 col5\" >0.9668</td>\n",
       "      <td id=\"T_4f08c_row1_col6\" class=\"data row1 col6\" >0.9246</td>\n",
       "      <td id=\"T_4f08c_row1_col7\" class=\"data row1 col7\" >0.9249</td>\n",
       "      <td id=\"T_4f08c_row1_col8\" class=\"data row1 col8\" >0.1320</td>\n",
       "    </tr>\n",
       "    <tr>\n",
       "      <th id=\"T_4f08c_level0_row2\" class=\"row_heading level0 row2\" >rf</th>\n",
       "      <td id=\"T_4f08c_row2_col0\" class=\"data row2 col0\" >Random Forest Classifier</td>\n",
       "      <td id=\"T_4f08c_row2_col1\" class=\"data row2 col1\" >0.9625</td>\n",
       "      <td id=\"T_4f08c_row2_col2\" class=\"data row2 col2\" >0.9931</td>\n",
       "      <td id=\"T_4f08c_row2_col3\" class=\"data row2 col3\" >0.9719</td>\n",
       "      <td id=\"T_4f08c_row2_col4\" class=\"data row2 col4\" >0.9614</td>\n",
       "      <td id=\"T_4f08c_row2_col5\" class=\"data row2 col5\" >0.9666</td>\n",
       "      <td id=\"T_4f08c_row2_col6\" class=\"data row2 col6\" >0.9239</td>\n",
       "      <td id=\"T_4f08c_row2_col7\" class=\"data row2 col7\" >0.9242</td>\n",
       "      <td id=\"T_4f08c_row2_col8\" class=\"data row2 col8\" >0.1490</td>\n",
       "    </tr>\n",
       "    <tr>\n",
       "      <th id=\"T_4f08c_level0_row3\" class=\"row_heading level0 row3\" >dt</th>\n",
       "      <td id=\"T_4f08c_row3_col0\" class=\"data row3 col0\" >Decision Tree Classifier</td>\n",
       "      <td id=\"T_4f08c_row3_col1\" class=\"data row3 col1\" >0.9501</td>\n",
       "      <td id=\"T_4f08c_row3_col2\" class=\"data row3 col2\" >0.9607</td>\n",
       "      <td id=\"T_4f08c_row3_col3\" class=\"data row3 col3\" >0.9536</td>\n",
       "      <td id=\"T_4f08c_row3_col4\" class=\"data row3 col4\" >0.9568</td>\n",
       "      <td id=\"T_4f08c_row3_col5\" class=\"data row3 col5\" >0.9551</td>\n",
       "      <td id=\"T_4f08c_row3_col6\" class=\"data row3 col6\" >0.8989</td>\n",
       "      <td id=\"T_4f08c_row3_col7\" class=\"data row3 col7\" >0.8991</td>\n",
       "      <td id=\"T_4f08c_row3_col8\" class=\"data row3 col8\" >0.0170</td>\n",
       "    </tr>\n",
       "    <tr>\n",
       "      <th id=\"T_4f08c_level0_row4\" class=\"row_heading level0 row4\" >gbc</th>\n",
       "      <td id=\"T_4f08c_row4_col0\" class=\"data row4 col0\" >Gradient Boosting Classifier</td>\n",
       "      <td id=\"T_4f08c_row4_col1\" class=\"data row4 col1\" >0.9494</td>\n",
       "      <td id=\"T_4f08c_row4_col2\" class=\"data row4 col2\" >0.9900</td>\n",
       "      <td id=\"T_4f08c_row4_col3\" class=\"data row4 col3\" >0.9632</td>\n",
       "      <td id=\"T_4f08c_row4_col4\" class=\"data row4 col4\" >0.9471</td>\n",
       "      <td id=\"T_4f08c_row4_col5\" class=\"data row4 col5\" >0.9550</td>\n",
       "      <td id=\"T_4f08c_row4_col6\" class=\"data row4 col6\" >0.8973</td>\n",
       "      <td id=\"T_4f08c_row4_col7\" class=\"data row4 col7\" >0.8977</td>\n",
       "      <td id=\"T_4f08c_row4_col8\" class=\"data row4 col8\" >0.1980</td>\n",
       "    </tr>\n",
       "    <tr>\n",
       "      <th id=\"T_4f08c_level0_row5\" class=\"row_heading level0 row5\" >ada</th>\n",
       "      <td id=\"T_4f08c_row5_col0\" class=\"data row5 col0\" >Ada Boost Classifier</td>\n",
       "      <td id=\"T_4f08c_row5_col1\" class=\"data row5 col1\" >0.9389</td>\n",
       "      <td id=\"T_4f08c_row5_col2\" class=\"data row5 col2\" >0.9864</td>\n",
       "      <td id=\"T_4f08c_row5_col3\" class=\"data row5 col3\" >0.9574</td>\n",
       "      <td id=\"T_4f08c_row5_col4\" class=\"data row5 col4\" >0.9347</td>\n",
       "      <td id=\"T_4f08c_row5_col5\" class=\"data row5 col5\" >0.9459</td>\n",
       "      <td id=\"T_4f08c_row5_col6\" class=\"data row5 col6\" >0.8759</td>\n",
       "      <td id=\"T_4f08c_row5_col7\" class=\"data row5 col7\" >0.8763</td>\n",
       "      <td id=\"T_4f08c_row5_col8\" class=\"data row5 col8\" >0.1020</td>\n",
       "    </tr>\n",
       "    <tr>\n",
       "      <th id=\"T_4f08c_level0_row6\" class=\"row_heading level0 row6\" >knn</th>\n",
       "      <td id=\"T_4f08c_row6_col0\" class=\"data row6 col0\" >K Neighbors Classifier</td>\n",
       "      <td id=\"T_4f08c_row6_col1\" class=\"data row6 col1\" >0.9334</td>\n",
       "      <td id=\"T_4f08c_row6_col2\" class=\"data row6 col2\" >0.9778</td>\n",
       "      <td id=\"T_4f08c_row6_col3\" class=\"data row6 col3\" >0.9443</td>\n",
       "      <td id=\"T_4f08c_row6_col4\" class=\"data row6 col4\" >0.9368</td>\n",
       "      <td id=\"T_4f08c_row6_col5\" class=\"data row6 col5\" >0.9405</td>\n",
       "      <td id=\"T_4f08c_row6_col6\" class=\"data row6 col6\" >0.8650</td>\n",
       "      <td id=\"T_4f08c_row6_col7\" class=\"data row6 col7\" >0.8651</td>\n",
       "      <td id=\"T_4f08c_row6_col8\" class=\"data row6 col8\" >0.0510</td>\n",
       "    </tr>\n",
       "    <tr>\n",
       "      <th id=\"T_4f08c_level0_row7\" class=\"row_heading level0 row7\" >lr</th>\n",
       "      <td id=\"T_4f08c_row7_col0\" class=\"data row7 col0\" >Logistic Regression</td>\n",
       "      <td id=\"T_4f08c_row7_col1\" class=\"data row7 col1\" >0.9297</td>\n",
       "      <td id=\"T_4f08c_row7_col2\" class=\"data row7 col2\" >0.9784</td>\n",
       "      <td id=\"T_4f08c_row7_col3\" class=\"data row7 col3\" >0.9475</td>\n",
       "      <td id=\"T_4f08c_row7_col4\" class=\"data row7 col4\" >0.9281</td>\n",
       "      <td id=\"T_4f08c_row7_col5\" class=\"data row7 col5\" >0.9376</td>\n",
       "      <td id=\"T_4f08c_row7_col6\" class=\"data row7 col6\" >0.8572</td>\n",
       "      <td id=\"T_4f08c_row7_col7\" class=\"data row7 col7\" >0.8577</td>\n",
       "      <td id=\"T_4f08c_row7_col8\" class=\"data row7 col8\" >0.7110</td>\n",
       "    </tr>\n",
       "    <tr>\n",
       "      <th id=\"T_4f08c_level0_row8\" class=\"row_heading level0 row8\" >svm</th>\n",
       "      <td id=\"T_4f08c_row8_col0\" class=\"data row8 col0\" >SVM - Linear Kernel</td>\n",
       "      <td id=\"T_4f08c_row8_col1\" class=\"data row8 col1\" >0.9221</td>\n",
       "      <td id=\"T_4f08c_row8_col2\" class=\"data row8 col2\" >0.0000</td>\n",
       "      <td id=\"T_4f08c_row8_col3\" class=\"data row8 col3\" >0.9431</td>\n",
       "      <td id=\"T_4f08c_row8_col4\" class=\"data row8 col4\" >0.9196</td>\n",
       "      <td id=\"T_4f08c_row8_col5\" class=\"data row8 col5\" >0.9310</td>\n",
       "      <td id=\"T_4f08c_row8_col6\" class=\"data row8 col6\" >0.8417</td>\n",
       "      <td id=\"T_4f08c_row8_col7\" class=\"data row8 col7\" >0.8425</td>\n",
       "      <td id=\"T_4f08c_row8_col8\" class=\"data row8 col8\" >0.0210</td>\n",
       "    </tr>\n",
       "    <tr>\n",
       "      <th id=\"T_4f08c_level0_row9\" class=\"row_heading level0 row9\" >lda</th>\n",
       "      <td id=\"T_4f08c_row9_col0\" class=\"data row9 col0\" >Linear Discriminant Analysis</td>\n",
       "      <td id=\"T_4f08c_row9_col1\" class=\"data row9 col1\" >0.9215</td>\n",
       "      <td id=\"T_4f08c_row9_col2\" class=\"data row9 col2\" >0.9741</td>\n",
       "      <td id=\"T_4f08c_row9_col3\" class=\"data row9 col3\" >0.9423</td>\n",
       "      <td id=\"T_4f08c_row9_col4\" class=\"data row9 col4\" >0.9190</td>\n",
       "      <td id=\"T_4f08c_row9_col5\" class=\"data row9 col5\" >0.9304</td>\n",
       "      <td id=\"T_4f08c_row9_col6\" class=\"data row9 col6\" >0.8404</td>\n",
       "      <td id=\"T_4f08c_row9_col7\" class=\"data row9 col7\" >0.8408</td>\n",
       "      <td id=\"T_4f08c_row9_col8\" class=\"data row9 col8\" >0.0110</td>\n",
       "    </tr>\n",
       "    <tr>\n",
       "      <th id=\"T_4f08c_level0_row10\" class=\"row_heading level0 row10\" >ridge</th>\n",
       "      <td id=\"T_4f08c_row10_col0\" class=\"data row10 col0\" >Ridge Classifier</td>\n",
       "      <td id=\"T_4f08c_row10_col1\" class=\"data row10 col1\" >0.9213</td>\n",
       "      <td id=\"T_4f08c_row10_col2\" class=\"data row10 col2\" >0.0000</td>\n",
       "      <td id=\"T_4f08c_row10_col3\" class=\"data row10 col3\" >0.9423</td>\n",
       "      <td id=\"T_4f08c_row10_col4\" class=\"data row10 col4\" >0.9187</td>\n",
       "      <td id=\"T_4f08c_row10_col5\" class=\"data row10 col5\" >0.9303</td>\n",
       "      <td id=\"T_4f08c_row10_col6\" class=\"data row10 col6\" >0.8400</td>\n",
       "      <td id=\"T_4f08c_row10_col7\" class=\"data row10 col7\" >0.8405</td>\n",
       "      <td id=\"T_4f08c_row10_col8\" class=\"data row10 col8\" >0.0110</td>\n",
       "    </tr>\n",
       "    <tr>\n",
       "      <th id=\"T_4f08c_level0_row11\" class=\"row_heading level0 row11\" >nb</th>\n",
       "      <td id=\"T_4f08c_row11_col0\" class=\"data row11 col0\" >Naive Bayes</td>\n",
       "      <td id=\"T_4f08c_row11_col1\" class=\"data row11 col1\" >0.6092</td>\n",
       "      <td id=\"T_4f08c_row11_col2\" class=\"data row11 col2\" >0.9665</td>\n",
       "      <td id=\"T_4f08c_row11_col3\" class=\"data row11 col3\" >0.2996</td>\n",
       "      <td id=\"T_4f08c_row11_col4\" class=\"data row11 col4\" >0.9960</td>\n",
       "      <td id=\"T_4f08c_row11_col5\" class=\"data row11 col5\" >0.4600</td>\n",
       "      <td id=\"T_4f08c_row11_col6\" class=\"data row11 col6\" >0.2736</td>\n",
       "      <td id=\"T_4f08c_row11_col7\" class=\"data row11 col7\" >0.3963</td>\n",
       "      <td id=\"T_4f08c_row11_col8\" class=\"data row11 col8\" >0.0150</td>\n",
       "    </tr>\n",
       "    <tr>\n",
       "      <th id=\"T_4f08c_level0_row12\" class=\"row_heading level0 row12\" >qda</th>\n",
       "      <td id=\"T_4f08c_row12_col0\" class=\"data row12 col0\" >Quadratic Discriminant Analysis</td>\n",
       "      <td id=\"T_4f08c_row12_col1\" class=\"data row12 col1\" >0.5918</td>\n",
       "      <td id=\"T_4f08c_row12_col2\" class=\"data row12 col2\" >0.9510</td>\n",
       "      <td id=\"T_4f08c_row12_col3\" class=\"data row12 col3\" >0.2981</td>\n",
       "      <td id=\"T_4f08c_row12_col4\" class=\"data row12 col4\" >0.9652</td>\n",
       "      <td id=\"T_4f08c_row12_col5\" class=\"data row12 col5\" >0.4275</td>\n",
       "      <td id=\"T_4f08c_row12_col6\" class=\"data row12 col6\" >0.2404</td>\n",
       "      <td id=\"T_4f08c_row12_col7\" class=\"data row12 col7\" >0.3557</td>\n",
       "      <td id=\"T_4f08c_row12_col8\" class=\"data row12 col8\" >0.0160</td>\n",
       "    </tr>\n",
       "    <tr>\n",
       "      <th id=\"T_4f08c_level0_row13\" class=\"row_heading level0 row13\" >dummy</th>\n",
       "      <td id=\"T_4f08c_row13_col0\" class=\"data row13 col0\" >Dummy Classifier</td>\n",
       "      <td id=\"T_4f08c_row13_col1\" class=\"data row13 col1\" >0.5570</td>\n",
       "      <td id=\"T_4f08c_row13_col2\" class=\"data row13 col2\" >0.5000</td>\n",
       "      <td id=\"T_4f08c_row13_col3\" class=\"data row13 col3\" >1.0000</td>\n",
       "      <td id=\"T_4f08c_row13_col4\" class=\"data row13 col4\" >0.5570</td>\n",
       "      <td id=\"T_4f08c_row13_col5\" class=\"data row13 col5\" >0.7155</td>\n",
       "      <td id=\"T_4f08c_row13_col6\" class=\"data row13 col6\" >0.0000</td>\n",
       "      <td id=\"T_4f08c_row13_col7\" class=\"data row13 col7\" >0.0000</td>\n",
       "      <td id=\"T_4f08c_row13_col8\" class=\"data row13 col8\" >0.0120</td>\n",
       "    </tr>\n",
       "  </tbody>\n",
       "</table>\n"
      ],
      "text/plain": [
       "<pandas.io.formats.style.Styler at 0x15d26549790>"
      ]
     },
     "metadata": {},
     "output_type": "display_data"
    },
    {
     "data": {
      "text/html": [],
      "text/plain": [
       "<IPython.core.display.HTML object>"
      ]
     },
     "metadata": {},
     "output_type": "display_data"
    }
   ],
   "source": [
    "best = compare_models()"
   ]
  },
  {
   "cell_type": "code",
   "execution_count": 8,
   "metadata": {},
   "outputs": [
    {
     "name": "stdout",
     "output_type": "stream",
     "text": [
      "Best model: ExtraTreesClassifier(bootstrap=False, ccp_alpha=0.0, class_weight=None,\n",
      "                     criterion='gini', max_depth=None, max_features='sqrt',\n",
      "                     max_leaf_nodes=None, max_samples=None,\n",
      "                     min_impurity_decrease=0.0, min_samples_leaf=1,\n",
      "                     min_samples_split=2, min_weight_fraction_leaf=0.0,\n",
      "                     n_estimators=100, n_jobs=-1, oob_score=False,\n",
      "                     random_state=42, verbose=0, warm_start=False)\n"
     ]
    }
   ],
   "source": [
    "print(f\"Best model: {best}\")"
   ]
  },
  {
   "cell_type": "code",
   "execution_count": 9,
   "metadata": {},
   "outputs": [],
   "source": [
    "y_pred = best.predict(X_test)"
   ]
  },
  {
   "cell_type": "code",
   "execution_count": 10,
   "metadata": {},
   "outputs": [
    {
     "name": "stdout",
     "output_type": "stream",
     "text": [
      "Accuracy: 0.968340117593849\n",
      "Precision: 0.9731051344743277\n",
      "Recall: 0.9699431356620634\n",
      "Confusion matrix: [[ 947   33]\n",
      " [  37 1194]]\n"
     ]
    }
   ],
   "source": [
    "accuracy = accuracy_score(y_test, y_pred)\n",
    "precision = precision_score(y_test, y_pred)\n",
    "recall = recall_score(y_test, y_pred)\n",
    "confusion = confusion_matrix(y_test, y_pred)\n",
    "\n",
    "print(f\"Accuracy: {accuracy}\")\n",
    "print(f\"Precision: {precision}\")\n",
    "print(f\"Recall: {recall}\")\n",
    "print(f\"Confusion matrix: {confusion}\")"
   ]
  },
  {
   "cell_type": "code",
   "execution_count": 11,
   "metadata": {},
   "outputs": [
    {
     "data": {
      "image/png": "[encoded data removed]",
      "text/plain": [
       "<Figure size 800x550 with 2 Axes>"
      ]
     },
     "metadata": {},
     "output_type": "display_data"
    }
   ],
   "source": [
    "sns.heatmap(\n",
    "    confusion,\n",
    "    annot=True,\n",
    "    xticklabels=[\"Phishing\", \"Legitimate\"],\n",
    "    yticklabels=[\"Phishing\", \"Legitimate\"],\n",
    "    cmap=\"Blues\",\n",
    "    fmt=\"g\",\n",
    ")\n",
    "plt.xlabel(\"Predicted\")\n",
    "plt.ylabel(\"Actual\")\n",
    "plt.title(\"Confusion Matrix\")\n",
    "plt.show()"
   ]
  },
  {
   "cell_type": "code",
   "execution_count": 13,
   "metadata": {},
   "outputs": [
    {
     "name": "stdout",
     "output_type": "stream",
     "text": [
      "Transformation Pipeline and Model Successfully Saved\n"
     ]
    },
    {
     "data": {
      "text/plain": [
       "(Pipeline(memory=Memory(location=None),\n",
       "          steps=[('numerical_imputer',\n",
       "                  TransformerWrapper(exclude=None,\n",
       "                                     include=['having_IP_Address', 'URL_Length',\n",
       "                                              'Shortining_Service',\n",
       "                                              'having_At_Symbol',\n",
       "                                              'double_slash_redirecting',\n",
       "                                              'Prefix_Suffix',\n",
       "                                              'having_Sub_Domain',\n",
       "                                              'SSLfinal_State',\n",
       "                                              'Domain_registeration_length',\n",
       "                                              'Favicon', 'port', 'HTTPS_token',\n",
       "                                              'Request_URL', 'URL_of_Anchor'...\n",
       "                  ExtraTreesClassifier(bootstrap=False, ccp_alpha=0.0,\n",
       "                                       class_weight=None, criterion='gini',\n",
       "                                       max_depth=None, max_features='sqrt',\n",
       "                                       max_leaf_nodes=None, max_samples=None,\n",
       "                                       min_impurity_decrease=0.0,\n",
       "                                       min_samples_leaf=1, min_samples_split=2,\n",
       "                                       min_weight_fraction_leaf=0.0,\n",
       "                                       n_estimators=100, n_jobs=-1,\n",
       "                                       oob_score=False, random_state=42,\n",
       "                                       verbose=0, warm_start=False))],\n",
       "          verbose=False),\n",
       " 'ExtraTreesClassifier.pkl')"
      ]
     },
     "execution_count": 13,
     "metadata": {},
     "output_type": "execute_result"
    }
   ],
   "source": [
    "setup_session.save_model(best, \"ExtraTreesClassifier\")"
   ]
  },
  {
   "cell_type": "code",
   "execution_count": null,
   "metadata": {},
   "outputs": [],
   "source": []
  }
 ],
 "metadata": {
  "kernelspec": {
   "display_name": ".venv",
   "language": "python",
   "name": "python3"
  },
  "language_info": {
   "codemirror_mode": {
    "name": "ipython",
    "version": 3
   },
   "file_extension": ".py",
   "mimetype": "text/x-python",
   "name": "python",
   "nbconvert_exporter": "python",
   "pygments_lexer": "ipython3",
   "version": "3.9.13"
  }
 },
 "nbformat": 4,
 "nbformat_minor": 2
}
